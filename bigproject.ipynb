{
 "cells": [
  {
   "cell_type": "code",
   "execution_count": 17,
   "id": "61438c37-8fc3-4984-a7c1-71c113c43316",
   "metadata": {},
   "outputs": [
    {
     "name": "stdout",
     "output_type": "stream",
     "text": [
      "Expected number of loops with 100 strings: 2.94216\n"
     ]
    }
   ],
   "source": [
    "import random\n",
    "\n",
    "def simulate_string_tying(N):\n",
    "    loose_ends = list(range(N))\n",
    "    pairs = {i: i for i in range(N)}\n",
    "    loops = 0\n",
    "\n",
    "    while len(loose_ends) > 0:\n",
    "        # Randomly select two ends\n",
    "        end1 = random.choice(loose_ends)\n",
    "        end2 = random.choice(loose_ends)\n",
    "\n",
    "        # If the ends are from the same piece, form a loop\n",
    "        if end1 == end2:\n",
    "            loops += 1\n",
    "            pairs[end1] = end1\n",
    "            loose_ends.remove(end1)\n",
    "        else:\n",
    "            # Combine the pairs into one pair\n",
    "            pairs[end1] = end2\n",
    "            loose_ends.remove(end1)\n",
    "            loose_ends.remove(end2)\n",
    "\n",
    "    return loops\n",
    "\n",
    "def expected_number_of_loops(N, num_simulations):\n",
    "    total_loops = 0\n",
    "    for _ in range(num_simulations):\n",
    "        total_loops += simulate_string_tying(N)\n",
    "    return total_loops / num_simulations\n",
    "\n",
    "# Number of strings in the bag\n",
    "N = 100\n",
    "\n",
    "# Number of simulations\n",
    "num_simulations = 100000\n",
    "\n",
    "expected_loops = expected_number_of_loops(N, num_simulations)\n",
    "print(f\"Expected number of loops with {N} strings: {expected_loops}\")\n"
   ]
  },
  {
   "cell_type": "code",
   "execution_count": 5,
   "id": "9ec1aa9b-bf52-4c79-a893-a59d09dfc445",
   "metadata": {},
   "outputs": [
    {
     "name": "stdin",
     "output_type": "stream",
     "text": [
      "Enter the number of pieces of string:  3\n"
     ]
    },
    {
     "name": "stdout",
     "output_type": "stream",
     "text": [
      "Tied ends:\n",
      "1L1 2L1 \n"
     ]
    }
   ],
   "source": [
    "import random\n",
    "\n",
    "def simulate_tying_strings(pieces):\n",
    "    loops = []\n",
    "    while pieces > 0:\n",
    "        loop_length = min(random.randint(1, pieces), pieces)\n",
    "        loops.append(loop_length)\n",
    "        pieces -= loop_length\n",
    "    return loops\n",
    "\n",
    "def main():\n",
    "    pieces = int(input(\"Enter the number of pieces of string: \"))\n",
    "\n",
    "    loops = simulate_tying_strings(pieces)\n",
    "    print(\"Tied ends:\")\n",
    "    for loop in loops:\n",
    "        print(f\"{loop}L1\", end=' ')\n",
    "    print()\n",
    "\n",
    "if __name__ == \"__main__\":\n",
    "    main()\n"
   ]
  },
  {
   "cell_type": "code",
   "execution_count": null,
   "id": "2218177e-a5a8-4c49-867c-274a9044a428",
   "metadata": {},
   "outputs": [],
   "source": []
  }
 ],
 "metadata": {
  "kernelspec": {
   "display_name": "Python 3 (ipykernel)",
   "language": "python",
   "name": "python3"
  },
  "language_info": {
   "codemirror_mode": {
    "name": "ipython",
    "version": 3
   },
   "file_extension": ".py",
   "mimetype": "text/x-python",
   "name": "python",
   "nbconvert_exporter": "python",
   "pygments_lexer": "ipython3",
   "version": "3.9.7"
  }
 },
 "nbformat": 4,
 "nbformat_minor": 5
}
